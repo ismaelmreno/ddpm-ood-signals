{
 "cells": [
  {
   "cell_type": "code",
   "id": "initial_id",
   "metadata": {
    "collapsed": true,
    "ExecuteTime": {
     "end_time": "2024-06-01T10:45:58.635805Z",
     "start_time": "2024-06-01T10:45:58.626239Z"
    }
   },
   "source": [
    "import os\n",
    "import h5py\n",
    "\n",
    "def list_h5_contents_with_details(file_path):\n",
    "    contents = []\n",
    "    with h5py.File(file_path, 'r') as h5_file:\n",
    "        def collect_attrs(name, obj):\n",
    "            if isinstance(obj, h5py.Dataset):\n",
    "                contents.append(f\"{name}: {obj.shape}, dtype={obj.dtype}\")\n",
    "        h5_file.visititems(collect_attrs)\n",
    "    return contents\n",
    "\n",
    "def display_directory_structure_with_h5_info(base_dir, indent=0):\n",
    "    for item in sorted(os.listdir(base_dir)):\n",
    "        item_path = os.path.join(base_dir, item)\n",
    "        if os.path.isdir(item_path):\n",
    "            print('│   ' * indent + '├── ' + item)\n",
    "            display_directory_structure_with_h5_info(item_path, indent + 1)\n",
    "        elif item.endswith('.h5'):\n",
    "            print('│   ' * indent + '├── ' + item)\n",
    "            h5_contents = list_h5_contents_with_details(item_path)\n",
    "            for content in h5_contents:\n",
    "                print('│   ' * (indent + 1) + '├── ' + content)\n",
    "\n",
    "# Example usage\n",
    "base_dir = '/home/ismael/TFM/rfchallenge/dataset_processed'\n",
    "print(\"Directory structure with H5 file details:\")\n",
    "display_directory_structure_with_h5_info(base_dir)\n"
   ],
   "outputs": [
    {
     "name": "stdout",
     "output_type": "stream",
     "text": [
      "Directory structure with H5 file details:\n",
      "├── interferenceset_frame\n",
      "│   ├── CommSignal2_raw_data.h5\n",
      "│   │   ├── dataset: (1000, 3000, 2), dtype=float64\n",
      "│   │   ├── sig_type: (), dtype=object\n",
      "│   ├── CommSignal3_raw_data.h5\n",
      "│   │   ├── dataset: (1000, 3000, 2), dtype=float64\n",
      "│   │   ├── sig_type: (), dtype=object\n",
      "│   ├── CommSignal5G1_raw_data.h5\n",
      "│   │   ├── dataset: (1000, 3000, 2), dtype=float64\n",
      "│   │   ├── sig_type: (), dtype=object\n",
      "│   ├── EMISignal1_raw_data.h5\n",
      "│   │   ├── dataset: (1000, 3000, 2), dtype=float64\n",
      "│   │   ├── sig_type: (), dtype=object\n",
      "├── testset1_frame\n",
      "│   ├── CommSignal2_test1_raw_data.h5\n",
      "│   │   ├── dataset: (700, 3000, 2), dtype=float64\n",
      "│   │   ├── sig_type: (), dtype=object\n",
      "│   ├── CommSignal3_test1_raw_data.h5\n",
      "│   │   ├── dataset: (1000, 3000, 2), dtype=float64\n",
      "│   │   ├── sig_type: (), dtype=object\n",
      "│   ├── CommSignal5G1_test1_raw_data.h5\n",
      "│   │   ├── dataset: (1000, 3000, 2), dtype=float64\n",
      "│   │   ├── sig_type: (), dtype=object\n",
      "│   ├── EMISignal1_test1_raw_data.h5\n",
      "│   │   ├── dataset: (1000, 3000, 2), dtype=float64\n",
      "│   │   ├── sig_type: (), dtype=object\n"
     ]
    }
   ],
   "execution_count": 10
  },
  {
   "metadata": {
    "ExecuteTime": {
     "end_time": "2024-06-01T10:45:10.515398Z",
     "start_time": "2024-06-01T10:45:05.514532Z"
    }
   },
   "cell_type": "code",
   "source": [
    "import os\n",
    "import h5py\n",
    "import numpy as np\n",
    "\n",
    "# Función para crear la nueva estructura de directorios\n",
    "def create_new_directory_structure(base_path, new_base_path):\n",
    "    for root, dirs, files in os.walk(base_path):\n",
    "        for dir in dirs:\n",
    "            new_dir = root.replace(base_path, new_base_path, 1)\n",
    "            new_dir = os.path.join(new_dir, dir)\n",
    "            os.makedirs(new_dir, exist_ok=True)\n",
    "\n",
    "# Función para procesar un archivo h5\n",
    "def process_h5_file(file_path, new_file_path, trim_length, num_samples):\n",
    "    with h5py.File(file_path, 'r') as f:\n",
    "        dataset = f['dataset'][:]\n",
    "        sig_type = f['sig_type'][()]\n",
    "        \n",
    "        num_original_samples, original_length = dataset.shape\n",
    "        new_samples = []\n",
    "\n",
    "        # Crear nuevas muestras dividiendo las existentes\n",
    "        for i in range(num_original_samples):\n",
    "            start_idx = 0\n",
    "            while start_idx + trim_length <= original_length and len(new_samples) < num_samples:\n",
    "                new_samples.append(dataset[i, start_idx:start_idx + trim_length])\n",
    "                start_idx += trim_length\n",
    "\n",
    "        new_samples = np.array(new_samples)\n",
    "        \n",
    "        # Añadir una dimensión para la parte real e imaginaria\n",
    "        dataset_expanded = np.stack((new_samples.real, new_samples.imag), axis=-1)\n",
    "\n",
    "    with h5py.File(new_file_path, 'w') as f:\n",
    "        f.create_dataset('dataset', data=dataset_expanded, dtype=np.float64)\n",
    "        f.create_dataset('sig_type', data=sig_type)\n",
    "\n",
    "# Función principal para recorrer la estructura de directorios y procesar los archivos\n",
    "def main(base_path, new_base_path, trim_length, num_samples):\n",
    "    create_new_directory_structure(base_path, new_base_path)\n",
    "    \n",
    "    for root, dirs, files in os.walk(base_path):\n",
    "        for file in files:\n",
    "            if file.endswith('.h5'):\n",
    "                file_path = os.path.join(root, file)\n",
    "                new_root = root.replace(base_path, new_base_path, 1)\n",
    "                new_file_path = os.path.join(new_root, file)\n",
    "                print(f\"Processing {file_path}...\")\n",
    "                process_h5_file(file_path, new_file_path, trim_length, num_samples)\n",
    "                print(f\"Finished processing {file_path}\")\n",
    "\n",
    "if __name__ == \"__main__\":\n",
    "    base_path = '/home/ismael/TFM/rfchallenge/dataset'\n",
    "    new_base_path = '/home/ismael/TFM/rfchallenge/dataset_processed'\n",
    "    trim_length = 3000\n",
    "    num_samples = 1000\n",
    "    main(base_path, new_base_path, trim_length, num_samples)\n"
   ],
   "id": "f35c58684ae3a20a",
   "outputs": [
    {
     "name": "stdout",
     "output_type": "stream",
     "text": [
      "Processing /home/ismael/TFM/rfchallenge/dataset/interferenceset_frame/CommSignal2_raw_data.h5...\n",
      "Finished processing /home/ismael/TFM/rfchallenge/dataset/interferenceset_frame/CommSignal2_raw_data.h5\n",
      "Processing /home/ismael/TFM/rfchallenge/dataset/interferenceset_frame/CommSignal3_raw_data.h5...\n",
      "Finished processing /home/ismael/TFM/rfchallenge/dataset/interferenceset_frame/CommSignal3_raw_data.h5\n",
      "Processing /home/ismael/TFM/rfchallenge/dataset/interferenceset_frame/EMISignal1_raw_data.h5...\n",
      "Finished processing /home/ismael/TFM/rfchallenge/dataset/interferenceset_frame/EMISignal1_raw_data.h5\n",
      "Processing /home/ismael/TFM/rfchallenge/dataset/interferenceset_frame/CommSignal5G1_raw_data.h5...\n",
      "Finished processing /home/ismael/TFM/rfchallenge/dataset/interferenceset_frame/CommSignal5G1_raw_data.h5\n",
      "Processing /home/ismael/TFM/rfchallenge/dataset/testset1_frame/EMISignal1_test1_raw_data.h5...\n",
      "Finished processing /home/ismael/TFM/rfchallenge/dataset/testset1_frame/EMISignal1_test1_raw_data.h5\n",
      "Processing /home/ismael/TFM/rfchallenge/dataset/testset1_frame/CommSignal3_test1_raw_data.h5...\n",
      "Finished processing /home/ismael/TFM/rfchallenge/dataset/testset1_frame/CommSignal3_test1_raw_data.h5\n",
      "Processing /home/ismael/TFM/rfchallenge/dataset/testset1_frame/CommSignal5G1_test1_raw_data.h5...\n",
      "Finished processing /home/ismael/TFM/rfchallenge/dataset/testset1_frame/CommSignal5G1_test1_raw_data.h5\n",
      "Processing /home/ismael/TFM/rfchallenge/dataset/testset1_frame/CommSignal2_test1_raw_data.h5...\n",
      "Finished processing /home/ismael/TFM/rfchallenge/dataset/testset1_frame/CommSignal2_test1_raw_data.h5\n"
     ]
    }
   ],
   "execution_count": 7
  }
 ],
 "metadata": {
  "kernelspec": {
   "display_name": "Python 3",
   "language": "python",
   "name": "python3"
  },
  "language_info": {
   "codemirror_mode": {
    "name": "ipython",
    "version": 2
   },
   "file_extension": ".py",
   "mimetype": "text/x-python",
   "name": "python",
   "nbconvert_exporter": "python",
   "pygments_lexer": "ipython2",
   "version": "2.7.6"
  }
 },
 "nbformat": 4,
 "nbformat_minor": 5
}
